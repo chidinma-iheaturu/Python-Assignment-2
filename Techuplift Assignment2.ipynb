{
 "cells": [
  {
   "cell_type": "markdown",
   "id": "689f406d",
   "metadata": {},
   "source": [
    "# Prime Test"
   ]
  },
  {
   "cell_type": "code",
   "execution_count": null,
   "id": "530147ff",
   "metadata": {},
   "outputs": [],
   "source": [
    "\"\"\"\n",
    "    This is a fuction that detect if any inputed number is prime or not. \n",
    "True if the number is prime, False otherwise.\n",
    " \"\"\""
   ]
  },
  {
   "cell_type": "code",
   "execution_count": 1,
   "id": "7cdbab6d",
   "metadata": {},
   "outputs": [
    {
     "name": "stdout",
     "output_type": "stream",
     "text": [
      "Enter a positive integer (type 'exit' to quit): 8\n",
      "8 is not a prime number.\n",
      "Enter a positive integer (type 'exit' to quit): 7\n",
      "7 is a prime number.\n",
      "Enter a positive integer (type 'exit' to quit): exit\n"
     ]
    }
   ],
   "source": [
    "def check_prime(n):\n",
    "    # Check if the number is less than or equal to 1\n",
    "    if n <= 1:\n",
    "        print(f\"{n} is not a prime number.\")\n",
    "        return False\n",
    "    \n",
    "    # Loop from 2 to n-1 to examine potential divisors\n",
    "    for i in range(2, n):\n",
    "        # If n is divisible evenly by i, it's not prime\n",
    "        if n % i == 0:\n",
    "            print(f\"{n} is not a prime number.\")\n",
    "            return False\n",
    "    \n",
    "    # If no divisors found, the number is prime\n",
    "    print(f\"{n} is a prime number.\")\n",
    "    return True\n",
    "\n",
    "# Main loop to continuously check numbers for primality\n",
    "while True:\n",
    "    try:\n",
    "        user_input = input(\"Enter a positive integer (type 'exit' to quit): \")\n",
    "        \n",
    "        # Check if the user wants to exit\n",
    "        if user_input.lower() == 'exit':\n",
    "            break\n",
    "        \n",
    "        # Convert user input to an integer and check for primality\n",
    "        user_number = int(user_input)\n",
    "        check_prime(user_number)\n",
    "        \n",
    "    # Handle invalid input (non-integer input)\n",
    "    except ValueError:\n",
    "        print(\"Invalid input. Please enter a valid positive integer or type 'exit' to quit.\")\n"
   ]
  },
  {
   "cell_type": "code",
   "execution_count": null,
   "id": "02ee5200",
   "metadata": {},
   "outputs": [],
   "source": []
  },
  {
   "cell_type": "code",
   "execution_count": null,
   "id": "574e723e",
   "metadata": {},
   "outputs": [],
   "source": []
  },
  {
   "cell_type": "code",
   "execution_count": null,
   "id": "630ba92d",
   "metadata": {},
   "outputs": [],
   "source": []
  },
  {
   "cell_type": "code",
   "execution_count": null,
   "id": "6e6be7bb",
   "metadata": {},
   "outputs": [],
   "source": []
  },
  {
   "cell_type": "code",
   "execution_count": null,
   "id": "405e7c94",
   "metadata": {},
   "outputs": [],
   "source": []
  },
  {
   "cell_type": "code",
   "execution_count": null,
   "id": "0c2188ec",
   "metadata": {},
   "outputs": [],
   "source": []
  },
  {
   "cell_type": "code",
   "execution_count": null,
   "id": "8394118f",
   "metadata": {},
   "outputs": [],
   "source": []
  },
  {
   "cell_type": "code",
   "execution_count": null,
   "id": "82837a21",
   "metadata": {},
   "outputs": [],
   "source": []
  },
  {
   "cell_type": "code",
   "execution_count": null,
   "id": "d2252478",
   "metadata": {},
   "outputs": [],
   "source": []
  },
  {
   "cell_type": "code",
   "execution_count": null,
   "id": "90dca545",
   "metadata": {},
   "outputs": [],
   "source": []
  }
 ],
 "metadata": {
  "kernelspec": {
   "display_name": "Python 3 (ipykernel)",
   "language": "python",
   "name": "python3"
  },
  "language_info": {
   "codemirror_mode": {
    "name": "ipython",
    "version": 3
   },
   "file_extension": ".py",
   "mimetype": "text/x-python",
   "name": "python",
   "nbconvert_exporter": "python",
   "pygments_lexer": "ipython3",
   "version": "3.11.4"
  }
 },
 "nbformat": 4,
 "nbformat_minor": 5
}
